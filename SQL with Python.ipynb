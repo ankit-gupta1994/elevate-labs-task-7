{
 "cells": [
  {
   "cell_type": "code",
   "execution_count": 1,
   "metadata": {},
   "outputs": [
    {
     "name": "stdout",
     "output_type": "stream",
     "text": [
      "Dummy data inserted successfully!\n"
     ]
    }
   ],
   "source": [
    "import sqlite3\n",
    "\n",
    "# Connect to the database\n",
    "conn = sqlite3.connect(\"data_sales.db\")\n",
    "cursor = conn.cursor()\n",
    "\n",
    "# Create the 'sales' table if it doesn't exist\n",
    "cursor.execute('''\n",
    "    CREATE TABLE IF NOT EXISTS sales (\n",
    "        id INTEGER PRIMARY KEY,\n",
    "        product TEXT,\n",
    "        quantity INTEGER,\n",
    "        price REAL,\n",
    "        sale_date TEXT\n",
    "    )\n",
    "''')\n",
    "\n",
    "# Sample data\n",
    "sample_data = [\n",
    "    ('Coffee', 10, 5.0, '2024-01-01'),\n",
    "    ('Tea', 8, 3.5, '2024-01-02'),\n",
    "    ('Coffee', 5, 5.0, '2024-01-03'),\n",
    "    ('Juice', 7, 4.0, '2024-01-04'),\n",
    "    ('Sandwich', 6, 6.5, '2024-01-05'),\n",
    "    ('Coffee', 9, 5.0, '2024-01-06'),\n",
    "    ('Tea', 4, 3.5, '2024-01-07'),\n",
    "    ('Juice', 10, 4.0, '2024-01-08'),\n",
    "    ('Cold Coffee', 12, 6.0, '2024-01-09'),\n",
    "    ('Waffle', 3, 7.5, '2024-01-10'),\n",
    "    ('Sandwich', 5, 6.5, '2024-01-11'),\n",
    "    ('Cold Coffee', 7, 6.0, '2024-01-12'),\n",
    "    ('Waffle', 6, 7.5, '2024-01-13'),\n",
    "    ('Tea', 10, 3.5, '2024-01-14'),\n",
    "    ('Coffee', 8, 5.0, '2024-01-15')\n",
    "]\n",
    "\n",
    "# Insert the sample data\n",
    "cursor.executemany('''\n",
    "    INSERT INTO sales (product, quantity, price, sale_date) \n",
    "    VALUES (?, ?, ?, ?)\n",
    "''', sample_data)\n",
    "\n",
    "# Commit changes\n",
    "conn.commit()\n",
    "\n",
    "print(\"Dummy data inserted successfully!\")\n"
   ]
  },
  {
   "cell_type": "code",
   "execution_count": 2,
   "metadata": {},
   "outputs": [],
   "source": [
    "# SQL query to get the product wise revenue\n",
    "\n",
    "query = \"SELECT product, SUM(quantity) AS total_qty, SUM(quantity * price) AS revenue FROM sales GROUP BY product\""
   ]
  },
  {
   "cell_type": "code",
   "execution_count": 3,
   "metadata": {},
   "outputs": [],
   "source": [
    "#Import necessary libraries\n",
    "\n",
    "import pandas as pd\n",
    "import matplotlib.pyplot as plt"
   ]
  },
  {
   "cell_type": "code",
   "execution_count": 4,
   "metadata": {},
   "outputs": [],
   "source": [
    "#Load the data fetched from SQL query into pandas\n",
    "\n",
    "df = pd.read_sql_query(query, conn)"
   ]
  },
  {
   "cell_type": "code",
   "execution_count": 5,
   "metadata": {},
   "outputs": [
    {
     "name": "stdout",
     "output_type": "stream",
     "text": [
      "       product  total_qty  revenue\n",
      "0       Coffee         32    160.0\n",
      "1  Cold Coffee         19    114.0\n",
      "2        Juice         17     68.0\n",
      "3     Sandwich         11     71.5\n",
      "4          Tea         22     77.0\n",
      "5       Waffle          9     67.5\n"
     ]
    }
   ],
   "source": [
    "# Print the data\n",
    "\n",
    "print(df)"
   ]
  },
  {
   "cell_type": "code",
   "execution_count": 6,
   "metadata": {},
   "outputs": [
    {
     "data": {
      "image/png": "[encoded data removed]",
      "text/plain": [
       "<Figure size 432x288 with 1 Axes>"
      ]
     },
     "metadata": {
      "needs_background": "light"
     },
     "output_type": "display_data"
    }
   ],
   "source": [
    "#Plotting the bar graph of Revenue by Product.\n",
    "\n",
    "df.plot(kind='bar', x='product', y='revenue', legend=False)\n",
    "plt.ylabel(\"Revenue\")\n",
    "plt.title(\"Revenue by Product\")\n",
    "plt.tight_layout()\n",
    "\n",
    "# Saving the graph generated.\n",
    "plt.savefig(\"sales_chart.png\", facecolor=\"White\")\n",
    "plt.show()         "
   ]
  },
  {
   "cell_type": "code",
   "execution_count": null,
   "metadata": {},
   "outputs": [],
   "source": []
  }
 ],
 "metadata": {
  "kernelspec": {
   "display_name": "Python 3",
   "language": "python",
   "name": "python3"
  },
  "language_info": {
   "codemirror_mode": {
    "name": "ipython",
    "version": 3
   },
   "file_extension": ".py",
   "mimetype": "text/x-python",
   "name": "python",
   "nbconvert_exporter": "python",
   "pygments_lexer": "ipython3",
   "version": "3.8.5"
  }
 },
 "nbformat": 4,
 "nbformat_minor": 4
}
